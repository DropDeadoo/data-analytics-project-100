{
 "cells": [
  {
   "cell_type": "markdown",
   "id": "c23ab68d-e9d6-4fd1-93df-f29ca0e5a84a",
   "metadata": {},
   "source": [
    "# Проект дашборд конверсий"
   ]
  },
  {
   "cell_type": "markdown",
   "id": "c3163875-ee6b-4e3c-a089-9389892e02bc",
   "metadata": {},
   "source": [
    "### Задачи для предварительного анализа данных:ribe"
   ]
  },
  {
   "cell_type": "markdown",
   "id": "9ec68085-f7ff-4064-836d-49c37b830df9",
   "metadata": {},
   "source": [
    "* Склонируйте созданный репозиторий проекта на рабочую машину\n",
    "* Создайте Jypyter Notebook и подключите необходимые библиотеки (pandas, requests)\n",
    "* Запросите данные по API за период 2023-03-01 -> 2023-09-01\n",
    "* Изучите данные, сделайте предварительный анализ с помощью dataframe.describe"
   ]
  },
  {
   "cell_type": "markdown",
   "id": "965de40f-41b1-4aef-8b2c-4131d4a32436",
   "metadata": {},
   "source": [
    "Импортируем необходимые библиотеки:"
   ]
  },
  {
   "cell_type": "code",
   "execution_count": 3,
   "id": "ffb82fe0-c280-4e18-9625-0e47c89e9877",
   "metadata": {},
   "outputs": [],
   "source": [
    "import pandas as pd\n",
    "import requests"
   ]
  },
  {
   "cell_type": "markdown",
   "id": "f8032781-4934-4bfd-ae0b-51eb3053174f",
   "metadata": {},
   "source": [
    "Запросим данные из csv файлов для первой и второй таблицы"
   ]
  },
  {
   "cell_type": "code",
   "execution_count": 6,
   "id": "8c3166c2-b96c-4e08-be21-a948d0f29578",
   "metadata": {},
   "outputs": [],
   "source": [
    "visits = pd.read_csv('./visits_1k.csv')"
   ]
  },
  {
   "cell_type": "code",
   "execution_count": 8,
   "id": "f456fbba-8086-43ec-9420-394380d02783",
   "metadata": {},
   "outputs": [],
   "source": [
    "registrations = pd.read_csv('./regs_1k.csv')"
   ]
  },
  {
   "cell_type": "markdown",
   "id": "676b26e8-a641-4872-8621-3d408a4c80ab",
   "metadata": {},
   "source": [
    "Напишем функцию, которая фильтруют данные в соответсвии с условием. Период 2023-03-01 -> 2023-09-01."
   ]
  },
  {
   "cell_type": "code",
   "execution_count": 11,
   "id": "59edd2e6-5d11-42a0-9e30-56605dbe2dea",
   "metadata": {},
   "outputs": [],
   "source": [
    "def filtered_data_by_date(df):\n",
    "    df['date'] = pd.to_datetime(df['date'])\n",
    "    start_date = pd.Timestamp('2023-03-01')\n",
    "    end_date = pd.Timestamp('2023-09-01')\n",
    "\n",
    "    filtered_df = df[(df['date'] >= start_date) & (df['date'] <= end_date)]\n",
    "    return filtered_df"
   ]
  },
  {
   "cell_type": "markdown",
   "id": "ebd73c3b-c108-4bb9-9531-4ac67c590563",
   "metadata": {},
   "source": [
    "Применим функцию к таблице визитов"
   ]
  },
  {
   "cell_type": "code",
   "execution_count": 14,
   "id": "b2a881ec-f261-42dc-a048-05d37f59ff4a",
   "metadata": {},
   "outputs": [
    {
     "data": {
      "text/html": [
       "<div>\n",
       "<style scoped>\n",
       "    .dataframe tbody tr th:only-of-type {\n",
       "        vertical-align: middle;\n",
       "    }\n",
       "\n",
       "    .dataframe tbody tr th {\n",
       "        vertical-align: top;\n",
       "    }\n",
       "\n",
       "    .dataframe thead th {\n",
       "        text-align: right;\n",
       "    }\n",
       "</style>\n",
       "<table border=\"1\" class=\"dataframe\">\n",
       "  <thead>\n",
       "    <tr style=\"text-align: right;\">\n",
       "      <th></th>\n",
       "      <th>uuid</th>\n",
       "      <th>platform</th>\n",
       "      <th>user_agent</th>\n",
       "      <th>date</th>\n",
       "    </tr>\n",
       "  </thead>\n",
       "  <tbody>\n",
       "    <tr>\n",
       "      <th>0</th>\n",
       "      <td>1de9ea66-70d3-4a1f-8735-df5ef7697fb9</td>\n",
       "      <td>web</td>\n",
       "      <td>Mozilla/5.0 (Macintosh; Intel Mac OS X 10_11_2...</td>\n",
       "      <td>2023-03-01 13:29:22</td>\n",
       "    </tr>\n",
       "    <tr>\n",
       "      <th>1</th>\n",
       "      <td>f149f542-e935-4870-9734-6b4501eaf614</td>\n",
       "      <td>web</td>\n",
       "      <td>Mozilla/5.0 (X11; CrOS x86_64 8172.45.0) Apple...</td>\n",
       "      <td>2023-03-01 16:44:28</td>\n",
       "    </tr>\n",
       "    <tr>\n",
       "      <th>2</th>\n",
       "      <td>f149f542-e935-4870-9734-6b4501eaf614</td>\n",
       "      <td>web</td>\n",
       "      <td>Mozilla/5.0 (X11; CrOS x86_64 8172.45.0) Apple...</td>\n",
       "      <td>2023-03-06 06:12:36</td>\n",
       "    </tr>\n",
       "    <tr>\n",
       "      <th>3</th>\n",
       "      <td>08f0ebd4-950c-4dd9-8e97-b5bdf073eed1</td>\n",
       "      <td>web</td>\n",
       "      <td>Mozilla/5.0 (X11; Ubuntu; Linux x86_64; rv:109...</td>\n",
       "      <td>2023-03-01 20:16:37</td>\n",
       "    </tr>\n",
       "    <tr>\n",
       "      <th>4</th>\n",
       "      <td>08f0ebd4-950c-4dd9-8e97-b5bdf073eed1</td>\n",
       "      <td>web</td>\n",
       "      <td>Mozilla/5.0 (X11; Ubuntu; Linux x86_64; rv:109...</td>\n",
       "      <td>2023-03-05 17:42:47</td>\n",
       "    </tr>\n",
       "    <tr>\n",
       "      <th>...</th>\n",
       "      <td>...</td>\n",
       "      <td>...</td>\n",
       "      <td>...</td>\n",
       "      <td>...</td>\n",
       "    </tr>\n",
       "    <tr>\n",
       "      <th>195</th>\n",
       "      <td>e363bad9-23d8-4263-aa84-727e10b07891</td>\n",
       "      <td>web</td>\n",
       "      <td>Mozilla/5.0 (Windows NT 10.0; Win64; x64) Appl...</td>\n",
       "      <td>2023-03-01 00:45:42</td>\n",
       "    </tr>\n",
       "    <tr>\n",
       "      <th>196</th>\n",
       "      <td>e363bad9-23d8-4263-aa84-727e10b07891</td>\n",
       "      <td>web</td>\n",
       "      <td>Mozilla/5.0 (Windows NT 10.0; Win64; x64) Appl...</td>\n",
       "      <td>2023-03-03 15:59:52</td>\n",
       "    </tr>\n",
       "    <tr>\n",
       "      <th>197</th>\n",
       "      <td>54ef7f95-9688-4018-a535-7be9e7c5af18</td>\n",
       "      <td>web</td>\n",
       "      <td>Mozilla/5.0 (X11; Ubuntu; Linux x86_64; rv:109...</td>\n",
       "      <td>2023-03-01 15:50:03</td>\n",
       "    </tr>\n",
       "    <tr>\n",
       "      <th>198</th>\n",
       "      <td>54ef7f95-9688-4018-a535-7be9e7c5af18</td>\n",
       "      <td>web</td>\n",
       "      <td>Mozilla/5.0 (X11; Ubuntu; Linux x86_64; rv:109...</td>\n",
       "      <td>2023-03-04 05:38:11</td>\n",
       "    </tr>\n",
       "    <tr>\n",
       "      <th>199</th>\n",
       "      <td>c0c16b36-c0ea-42d1-9950-a263faec571d</td>\n",
       "      <td>web</td>\n",
       "      <td>Mozilla/5.0 (Macintosh; Intel Mac OS X 10_11_2...</td>\n",
       "      <td>2023-03-01 19:25:57</td>\n",
       "    </tr>\n",
       "  </tbody>\n",
       "</table>\n",
       "<p>200 rows × 4 columns</p>\n",
       "</div>"
      ],
      "text/plain": [
       "                                     uuid platform  \\\n",
       "0    1de9ea66-70d3-4a1f-8735-df5ef7697fb9      web   \n",
       "1    f149f542-e935-4870-9734-6b4501eaf614      web   \n",
       "2    f149f542-e935-4870-9734-6b4501eaf614      web   \n",
       "3    08f0ebd4-950c-4dd9-8e97-b5bdf073eed1      web   \n",
       "4    08f0ebd4-950c-4dd9-8e97-b5bdf073eed1      web   \n",
       "..                                    ...      ...   \n",
       "195  e363bad9-23d8-4263-aa84-727e10b07891      web   \n",
       "196  e363bad9-23d8-4263-aa84-727e10b07891      web   \n",
       "197  54ef7f95-9688-4018-a535-7be9e7c5af18      web   \n",
       "198  54ef7f95-9688-4018-a535-7be9e7c5af18      web   \n",
       "199  c0c16b36-c0ea-42d1-9950-a263faec571d      web   \n",
       "\n",
       "                                            user_agent                date  \n",
       "0    Mozilla/5.0 (Macintosh; Intel Mac OS X 10_11_2... 2023-03-01 13:29:22  \n",
       "1    Mozilla/5.0 (X11; CrOS x86_64 8172.45.0) Apple... 2023-03-01 16:44:28  \n",
       "2    Mozilla/5.0 (X11; CrOS x86_64 8172.45.0) Apple... 2023-03-06 06:12:36  \n",
       "3    Mozilla/5.0 (X11; Ubuntu; Linux x86_64; rv:109... 2023-03-01 20:16:37  \n",
       "4    Mozilla/5.0 (X11; Ubuntu; Linux x86_64; rv:109... 2023-03-05 17:42:47  \n",
       "..                                                 ...                 ...  \n",
       "195  Mozilla/5.0 (Windows NT 10.0; Win64; x64) Appl... 2023-03-01 00:45:42  \n",
       "196  Mozilla/5.0 (Windows NT 10.0; Win64; x64) Appl... 2023-03-03 15:59:52  \n",
       "197  Mozilla/5.0 (X11; Ubuntu; Linux x86_64; rv:109... 2023-03-01 15:50:03  \n",
       "198  Mozilla/5.0 (X11; Ubuntu; Linux x86_64; rv:109... 2023-03-04 05:38:11  \n",
       "199  Mozilla/5.0 (Macintosh; Intel Mac OS X 10_11_2... 2023-03-01 19:25:57  \n",
       "\n",
       "[200 rows x 4 columns]"
      ]
     },
     "execution_count": 14,
     "metadata": {},
     "output_type": "execute_result"
    }
   ],
   "source": [
    "filtered_visits = filtered_data_by_date(visits)\n",
    "filtered_visits.head(200)"
   ]
  },
  {
   "cell_type": "markdown",
   "id": "79449d18-7b65-4230-b42a-0d2330dcb7a1",
   "metadata": {},
   "source": [
    "Применим функцию к таблице регистраций"
   ]
  },
  {
   "cell_type": "code",
   "execution_count": 17,
   "id": "d78ca0e8-fcbb-4cee-8a36-66a220ed881f",
   "metadata": {},
   "outputs": [
    {
     "data": {
      "text/html": [
       "<div>\n",
       "<style scoped>\n",
       "    .dataframe tbody tr th:only-of-type {\n",
       "        vertical-align: middle;\n",
       "    }\n",
       "\n",
       "    .dataframe tbody tr th {\n",
       "        vertical-align: top;\n",
       "    }\n",
       "\n",
       "    .dataframe thead th {\n",
       "        text-align: right;\n",
       "    }\n",
       "</style>\n",
       "<table border=\"1\" class=\"dataframe\">\n",
       "  <thead>\n",
       "    <tr style=\"text-align: right;\">\n",
       "      <th></th>\n",
       "      <th>date</th>\n",
       "      <th>user_id</th>\n",
       "      <th>email</th>\n",
       "      <th>platform</th>\n",
       "      <th>registration_type</th>\n",
       "    </tr>\n",
       "  </thead>\n",
       "  <tbody>\n",
       "    <tr>\n",
       "      <th>0</th>\n",
       "      <td>2023-03-01 00:25:39</td>\n",
       "      <td>8838849</td>\n",
       "      <td>joseph95@example.org</td>\n",
       "      <td>web</td>\n",
       "      <td>google</td>\n",
       "    </tr>\n",
       "    <tr>\n",
       "      <th>1</th>\n",
       "      <td>2023-03-01 14:53:01</td>\n",
       "      <td>8741065</td>\n",
       "      <td>janetsuarez@example.net</td>\n",
       "      <td>web</td>\n",
       "      <td>yandex</td>\n",
       "    </tr>\n",
       "    <tr>\n",
       "      <th>2</th>\n",
       "      <td>2023-03-01 14:27:36</td>\n",
       "      <td>1866654</td>\n",
       "      <td>robert67@example.org</td>\n",
       "      <td>web</td>\n",
       "      <td>google</td>\n",
       "    </tr>\n",
       "    <tr>\n",
       "      <th>3</th>\n",
       "      <td>2023-03-01 02:42:34</td>\n",
       "      <td>1577584</td>\n",
       "      <td>elam@example.net</td>\n",
       "      <td>web</td>\n",
       "      <td>apple</td>\n",
       "    </tr>\n",
       "    <tr>\n",
       "      <th>4</th>\n",
       "      <td>2023-03-01 10:27:14</td>\n",
       "      <td>4765395</td>\n",
       "      <td>stephanie68@example.net</td>\n",
       "      <td>web</td>\n",
       "      <td>yandex</td>\n",
       "    </tr>\n",
       "    <tr>\n",
       "      <th>...</th>\n",
       "      <td>...</td>\n",
       "      <td>...</td>\n",
       "      <td>...</td>\n",
       "      <td>...</td>\n",
       "      <td>...</td>\n",
       "    </tr>\n",
       "    <tr>\n",
       "      <th>195</th>\n",
       "      <td>2023-03-02 09:22:02</td>\n",
       "      <td>4482100</td>\n",
       "      <td>anne96@example.com</td>\n",
       "      <td>android</td>\n",
       "      <td>google</td>\n",
       "    </tr>\n",
       "    <tr>\n",
       "      <th>196</th>\n",
       "      <td>2023-03-02 12:07:44</td>\n",
       "      <td>3508372</td>\n",
       "      <td>steven58@example.org</td>\n",
       "      <td>android</td>\n",
       "      <td>google</td>\n",
       "    </tr>\n",
       "    <tr>\n",
       "      <th>197</th>\n",
       "      <td>2023-03-02 04:09:51</td>\n",
       "      <td>7470923</td>\n",
       "      <td>ybanks@example.org</td>\n",
       "      <td>android</td>\n",
       "      <td>google</td>\n",
       "    </tr>\n",
       "    <tr>\n",
       "      <th>198</th>\n",
       "      <td>2023-03-02 03:02:38</td>\n",
       "      <td>878113</td>\n",
       "      <td>ericagibson@example.com</td>\n",
       "      <td>android</td>\n",
       "      <td>google</td>\n",
       "    </tr>\n",
       "    <tr>\n",
       "      <th>199</th>\n",
       "      <td>2023-03-02 07:51:48</td>\n",
       "      <td>3830711</td>\n",
       "      <td>murphyjaclyn@example.net</td>\n",
       "      <td>android</td>\n",
       "      <td>google</td>\n",
       "    </tr>\n",
       "  </tbody>\n",
       "</table>\n",
       "<p>200 rows × 5 columns</p>\n",
       "</div>"
      ],
      "text/plain": [
       "                   date  user_id                     email platform  \\\n",
       "0   2023-03-01 00:25:39  8838849      joseph95@example.org      web   \n",
       "1   2023-03-01 14:53:01  8741065   janetsuarez@example.net      web   \n",
       "2   2023-03-01 14:27:36  1866654      robert67@example.org      web   \n",
       "3   2023-03-01 02:42:34  1577584          elam@example.net      web   \n",
       "4   2023-03-01 10:27:14  4765395   stephanie68@example.net      web   \n",
       "..                  ...      ...                       ...      ...   \n",
       "195 2023-03-02 09:22:02  4482100        anne96@example.com  android   \n",
       "196 2023-03-02 12:07:44  3508372      steven58@example.org  android   \n",
       "197 2023-03-02 04:09:51  7470923        ybanks@example.org  android   \n",
       "198 2023-03-02 03:02:38   878113   ericagibson@example.com  android   \n",
       "199 2023-03-02 07:51:48  3830711  murphyjaclyn@example.net  android   \n",
       "\n",
       "    registration_type  \n",
       "0              google  \n",
       "1              yandex  \n",
       "2              google  \n",
       "3               apple  \n",
       "4              yandex  \n",
       "..                ...  \n",
       "195            google  \n",
       "196            google  \n",
       "197            google  \n",
       "198            google  \n",
       "199            google  \n",
       "\n",
       "[200 rows x 5 columns]"
      ]
     },
     "execution_count": 17,
     "metadata": {},
     "output_type": "execute_result"
    }
   ],
   "source": [
    "filtered_registrations = filtered_data_by_date(registrations)\n",
    "filtered_registrations.head(200)"
   ]
  },
  {
   "cell_type": "markdown",
   "id": "75d84fe3-fe3a-4ef5-8af7-a536f8919a8a",
   "metadata": {},
   "source": [
    "Проанализируем данные по входам с помощью функции **describe()**"
   ]
  },
  {
   "cell_type": "code",
   "execution_count": 20,
   "id": "2b3976bc-841a-4887-af56-5f951debcbc3",
   "metadata": {},
   "outputs": [
    {
     "data": {
      "text/html": [
       "<div>\n",
       "<style scoped>\n",
       "    .dataframe tbody tr th:only-of-type {\n",
       "        vertical-align: middle;\n",
       "    }\n",
       "\n",
       "    .dataframe tbody tr th {\n",
       "        vertical-align: top;\n",
       "    }\n",
       "\n",
       "    .dataframe thead th {\n",
       "        text-align: right;\n",
       "    }\n",
       "</style>\n",
       "<table border=\"1\" class=\"dataframe\">\n",
       "  <thead>\n",
       "    <tr style=\"text-align: right;\">\n",
       "      <th></th>\n",
       "      <th>date</th>\n",
       "    </tr>\n",
       "  </thead>\n",
       "  <tbody>\n",
       "    <tr>\n",
       "      <th>count</th>\n",
       "      <td>1000</td>\n",
       "    </tr>\n",
       "    <tr>\n",
       "      <th>mean</th>\n",
       "      <td>2023-03-02 18:25:04.564000256</td>\n",
       "    </tr>\n",
       "    <tr>\n",
       "      <th>min</th>\n",
       "      <td>2023-03-01 00:05:35</td>\n",
       "    </tr>\n",
       "    <tr>\n",
       "      <th>25%</th>\n",
       "      <td>2023-03-01 12:02:27</td>\n",
       "    </tr>\n",
       "    <tr>\n",
       "      <th>50%</th>\n",
       "      <td>2023-03-01 23:28:04.500000</td>\n",
       "    </tr>\n",
       "    <tr>\n",
       "      <th>75%</th>\n",
       "      <td>2023-03-03 21:42:13.249999872</td>\n",
       "    </tr>\n",
       "    <tr>\n",
       "      <th>max</th>\n",
       "      <td>2023-03-07 23:05:08</td>\n",
       "    </tr>\n",
       "  </tbody>\n",
       "</table>\n",
       "</div>"
      ],
      "text/plain": [
       "                                date\n",
       "count                           1000\n",
       "mean   2023-03-02 18:25:04.564000256\n",
       "min              2023-03-01 00:05:35\n",
       "25%              2023-03-01 12:02:27\n",
       "50%       2023-03-01 23:28:04.500000\n",
       "75%    2023-03-03 21:42:13.249999872\n",
       "max              2023-03-07 23:05:08"
      ]
     },
     "execution_count": 20,
     "metadata": {},
     "output_type": "execute_result"
    }
   ],
   "source": [
    "filtered_visits.describe()"
   ]
  },
  {
   "cell_type": "markdown",
   "id": "47a3608d-fda7-4a7b-8290-a2428357ab6b",
   "metadata": {},
   "source": [
    "Большинство визитов было сделано до 03.03.2023, при этом половина из них была сделана в первый день 01.03.2023. "
   ]
  },
  {
   "cell_type": "markdown",
   "id": "d5b12034-9c03-4e3b-a9b8-58f8ebbe2087",
   "metadata": {},
   "source": [
    "Проанализируем данные по регистрациями с помощью функции **describe()**"
   ]
  },
  {
   "cell_type": "code",
   "execution_count": 24,
   "id": "950b3f10-44e3-4b11-94c7-3f57c52c11ff",
   "metadata": {},
   "outputs": [
    {
     "data": {
      "text/html": [
       "<div>\n",
       "<style scoped>\n",
       "    .dataframe tbody tr th:only-of-type {\n",
       "        vertical-align: middle;\n",
       "    }\n",
       "\n",
       "    .dataframe tbody tr th {\n",
       "        vertical-align: top;\n",
       "    }\n",
       "\n",
       "    .dataframe thead th {\n",
       "        text-align: right;\n",
       "    }\n",
       "</style>\n",
       "<table border=\"1\" class=\"dataframe\">\n",
       "  <thead>\n",
       "    <tr style=\"text-align: right;\">\n",
       "      <th></th>\n",
       "      <th>date</th>\n",
       "      <th>user_id</th>\n",
       "    </tr>\n",
       "  </thead>\n",
       "  <tbody>\n",
       "    <tr>\n",
       "      <th>count</th>\n",
       "      <td>1000</td>\n",
       "      <td>1.000000e+03</td>\n",
       "    </tr>\n",
       "    <tr>\n",
       "      <th>mean</th>\n",
       "      <td>2023-03-03 10:59:03.900000</td>\n",
       "      <td>4.488623e+06</td>\n",
       "    </tr>\n",
       "    <tr>\n",
       "      <th>min</th>\n",
       "      <td>2023-03-01 00:12:22</td>\n",
       "      <td>2.236800e+04</td>\n",
       "    </tr>\n",
       "    <tr>\n",
       "      <th>25%</th>\n",
       "      <td>2023-03-02 14:08:57.500000</td>\n",
       "      <td>2.235489e+06</td>\n",
       "    </tr>\n",
       "    <tr>\n",
       "      <th>50%</th>\n",
       "      <td>2023-03-03 10:33:06</td>\n",
       "      <td>4.473044e+06</td>\n",
       "    </tr>\n",
       "    <tr>\n",
       "      <th>75%</th>\n",
       "      <td>2023-03-04 07:32:06.500000</td>\n",
       "      <td>6.779707e+06</td>\n",
       "    </tr>\n",
       "    <tr>\n",
       "      <th>max</th>\n",
       "      <td>2023-03-05 22:04:01</td>\n",
       "      <td>8.881772e+06</td>\n",
       "    </tr>\n",
       "    <tr>\n",
       "      <th>std</th>\n",
       "      <td>NaN</td>\n",
       "      <td>2.620568e+06</td>\n",
       "    </tr>\n",
       "  </tbody>\n",
       "</table>\n",
       "</div>"
      ],
      "text/plain": [
       "                             date       user_id\n",
       "count                        1000  1.000000e+03\n",
       "mean   2023-03-03 10:59:03.900000  4.488623e+06\n",
       "min           2023-03-01 00:12:22  2.236800e+04\n",
       "25%    2023-03-02 14:08:57.500000  2.235489e+06\n",
       "50%           2023-03-03 10:33:06  4.473044e+06\n",
       "75%    2023-03-04 07:32:06.500000  6.779707e+06\n",
       "max           2023-03-05 22:04:01  8.881772e+06\n",
       "std                           NaN  2.620568e+06"
      ]
     },
     "execution_count": 24,
     "metadata": {},
     "output_type": "execute_result"
    }
   ],
   "source": [
    "filtered_registrations.describe()"
   ]
  },
  {
   "cell_type": "markdown",
   "id": "af7f9b95-0788-4ccb-a75a-34076b32713a",
   "metadata": {},
   "source": [
    "Первая регистрация была соверешна в первый день 01.03.2023, более половины было зарегистрировано 03.03.2023 и большая часть до 04.03.2023"
   ]
  },
  {
   "cell_type": "markdown",
   "id": "a945863f-a98e-4210-a7f0-0e2b10fb6b17",
   "metadata": {},
   "source": [
    "Запросим данные по API за период 2023-03-01 -> 2023-09-01 сначала по входам, потом по регистрациям"
   ]
  },
  {
   "cell_type": "code",
   "execution_count": 129,
   "id": "1f1fbf17-7846-4855-94c5-25047f5df29d",
   "metadata": {},
   "outputs": [
    {
     "name": "stdout",
     "output_type": "stream",
     "text": [
      "                             datetime platform  \\\n",
      "0       Wed, 01 Mar 2023 10:36:22 GMT      web   \n",
      "1       Wed, 01 Mar 2023 06:25:00 GMT      web   \n",
      "2       Wed, 01 Mar 2023 10:26:13 GMT      web   \n",
      "3       Wed, 01 Mar 2023 12:33:06 GMT      web   \n",
      "4       Wed, 01 Mar 2023 01:38:35 GMT      web   \n",
      "...                               ...      ...   \n",
      "263454  Tue, 29 Aug 2023 10:43:29 GMT      web   \n",
      "263455  Tue, 29 Aug 2023 19:29:16 GMT      web   \n",
      "263456  Tue, 29 Aug 2023 12:51:11 GMT      web   \n",
      "263457  Tue, 29 Aug 2023 21:45:08 GMT      web   \n",
      "263458  Wed, 30 Aug 2023 19:19:04 GMT      web   \n",
      "\n",
      "                                               user_agent  \\\n",
      "0       Mozilla/5.0 (Windows NT 10.0; Win64; x64) Appl...   \n",
      "1       Mozilla/5.0 (Windows NT 10.0; WOW64; Trident/7...   \n",
      "2       Mozilla/5.0 (Macintosh; Intel Mac OS X 10_11_2...   \n",
      "3       Mozilla/5.0 (Macintosh; Intel Mac OS X 10_15_7...   \n",
      "4       Mozilla/5.0 (Windows NT 10.0; Win64; x64) Appl...   \n",
      "...                                                   ...   \n",
      "263454  Mozilla/5.0 (Macintosh; Intel Mac OS X 10_15_7...   \n",
      "263455  Mozilla/5.0 (X11; Ubuntu; Linux x86_64; rv:109...   \n",
      "263456  Mozilla/5.0 (Windows NT 10.0; Win64; x64) Appl...   \n",
      "263457  Mozilla/5.0 (Windows NT 10.0; Win64; x64) Appl...   \n",
      "263458  Mozilla/5.0 (X11; Ubuntu; Linux x86_64; rv:109...   \n",
      "\n",
      "                                    visit_id  \n",
      "0       1de9ea66-70d3-4a1f-8735-df5ef7697fb9  \n",
      "1       f149f542-e935-4870-9734-6b4501eaf614  \n",
      "2       08f0ebd4-950c-4dd9-8e97-b5bdf073eed1  \n",
      "3       19322fed-157c-49c6-b16e-2d5cabeb9592  \n",
      "4       04762a22-3c9f-40c9-9ac9-6628c4381836  \n",
      "...                                      ...  \n",
      "263454  6d2e2f5b-970b-4dfe-8f57-25711a5b2a5d  \n",
      "263455  1d91535e-d984-4f76-bbaa-c14c0fd4f2e2  \n",
      "263456  f2496721-7126-430d-976e-777a6cdccb4f  \n",
      "263457  f2496721-7126-430d-976e-777a6cdccb4f  \n",
      "263458  73047125-de44-4d65-8229-7218acff4ddc  \n",
      "\n",
      "[263459 rows x 4 columns]\n"
     ]
    }
   ],
   "source": [
    "req = requests.get(\"https://data-charts-api.hexlet.app/visits?begin=2023-03-01&end=2023-09-01\")\n",
    "\n",
    "src = req.json()\n",
    "df_visits = pd.DataFrame(src)\n",
    "\n",
    "print(df_visits)"
   ]
  },
  {
   "cell_type": "code",
   "execution_count": 127,
   "id": "8134d30c-789c-4911-8bb3-d5ed4e7d5337",
   "metadata": {
    "tags": []
   },
   "outputs": [
    {
     "name": "stdout",
     "output_type": "stream",
     "text": [
      "                             datetime platform  \\\n",
      "0       Wed, 01 Mar 2023 10:36:22 GMT      web   \n",
      "1       Wed, 01 Mar 2023 06:25:00 GMT      web   \n",
      "2       Wed, 01 Mar 2023 10:26:13 GMT      web   \n",
      "3       Wed, 01 Mar 2023 12:33:06 GMT      web   \n",
      "4       Wed, 01 Mar 2023 01:38:35 GMT      web   \n",
      "...                               ...      ...   \n",
      "263454  Tue, 29 Aug 2023 10:43:29 GMT      web   \n",
      "263455  Tue, 29 Aug 2023 19:29:16 GMT      web   \n",
      "263456  Tue, 29 Aug 2023 12:51:11 GMT      web   \n",
      "263457  Tue, 29 Aug 2023 21:45:08 GMT      web   \n",
      "263458  Wed, 30 Aug 2023 19:19:04 GMT      web   \n",
      "\n",
      "                                               user_agent  \\\n",
      "0       Mozilla/5.0 (Windows NT 10.0; Win64; x64) Appl...   \n",
      "1       Mozilla/5.0 (Windows NT 10.0; WOW64; Trident/7...   \n",
      "2       Mozilla/5.0 (Macintosh; Intel Mac OS X 10_11_2...   \n",
      "3       Mozilla/5.0 (Macintosh; Intel Mac OS X 10_15_7...   \n",
      "4       Mozilla/5.0 (Windows NT 10.0; Win64; x64) Appl...   \n",
      "...                                                   ...   \n",
      "263454  Mozilla/5.0 (Macintosh; Intel Mac OS X 10_15_7...   \n",
      "263455  Mozilla/5.0 (X11; Ubuntu; Linux x86_64; rv:109...   \n",
      "263456  Mozilla/5.0 (Windows NT 10.0; Win64; x64) Appl...   \n",
      "263457  Mozilla/5.0 (Windows NT 10.0; Win64; x64) Appl...   \n",
      "263458  Mozilla/5.0 (X11; Ubuntu; Linux x86_64; rv:109...   \n",
      "\n",
      "                                    visit_id  \n",
      "0       1de9ea66-70d3-4a1f-8735-df5ef7697fb9  \n",
      "1       f149f542-e935-4870-9734-6b4501eaf614  \n",
      "2       08f0ebd4-950c-4dd9-8e97-b5bdf073eed1  \n",
      "3       19322fed-157c-49c6-b16e-2d5cabeb9592  \n",
      "4       04762a22-3c9f-40c9-9ac9-6628c4381836  \n",
      "...                                      ...  \n",
      "263454  6d2e2f5b-970b-4dfe-8f57-25711a5b2a5d  \n",
      "263455  1d91535e-d984-4f76-bbaa-c14c0fd4f2e2  \n",
      "263456  f2496721-7126-430d-976e-777a6cdccb4f  \n",
      "263457  f2496721-7126-430d-976e-777a6cdccb4f  \n",
      "263458  73047125-de44-4d65-8229-7218acff4ddc  \n",
      "\n",
      "[263459 rows x 4 columns]\n"
     ]
    }
   ],
   "source": [
    "# Фильтрация визитов от ботов\n",
    "visits_df = df_visits[df_visits['user_agent'] != 'bot']\n",
    "print(visits_df)"
   ]
  },
  {
   "cell_type": "code",
   "execution_count": 131,
   "id": "79da8124-fd66-4958-bd04-ed642a0c44f1",
   "metadata": {},
   "outputs": [
    {
     "name": "stdout",
     "output_type": "stream",
     "text": [
      "                            datetime                       email platform  \\\n",
      "0      Wed, 01 Mar 2023 07:40:13 GMT           ebyrd@example.org      web   \n",
      "1      Wed, 01 Mar 2023 13:14:00 GMT    knightgerald@example.org      web   \n",
      "2      Wed, 01 Mar 2023 03:05:50 GMT  cherylthompson@example.com      web   \n",
      "3      Wed, 01 Mar 2023 00:04:47 GMT       halldavid@example.org      web   \n",
      "4      Wed, 01 Mar 2023 18:31:52 GMT        denise86@example.net      web   \n",
      "...                              ...                         ...      ...   \n",
      "21831  Thu, 31 Aug 2023 07:32:08 GMT         ikelley@example.net      ios   \n",
      "21832  Thu, 31 Aug 2023 23:25:50 GMT     brittanycox@example.net      ios   \n",
      "21833  Thu, 31 Aug 2023 19:29:18 GMT           aryan@example.net      ios   \n",
      "21834  Thu, 31 Aug 2023 19:38:54 GMT       emartinez@example.net      ios   \n",
      "21835  Thu, 31 Aug 2023 08:36:05 GMT      terriperry@example.net      ios   \n",
      "\n",
      "      registration_type                               user_id  \n",
      "0                google  2e0f6bb8-b029-4f45-a786-2b53990d37f1  \n",
      "1                 email  f007f97c-9d8b-48b5-af08-119bb8f6d9b6  \n",
      "2                 apple  24ff46ae-32b3-4a74-8f27-7cf0b8f32f15  \n",
      "3                 email  3e9914e1-5d73-4c23-b25d-b59a3aeb2b60  \n",
      "4                google  27f875fc-f8ce-4aeb-8722-0ecb283d0760  \n",
      "...                 ...                                   ...  \n",
      "21831             apple  a94b4a28-f25c-433c-b4ef-85af7d5b0c11  \n",
      "21832             apple  fc709c6b-528b-40d8-8980-c2c278e5a628  \n",
      "21833             apple  11e32805-7571-4108-8e50-e211d051bf7e  \n",
      "21834             email  bce7b818-768b-434a-b6af-573cd60bff7f  \n",
      "21835             email  fe03e08a-8e86-4b5f-9a50-c18a02b0d234  \n",
      "\n",
      "[21836 rows x 5 columns]\n"
     ]
    }
   ],
   "source": [
    "req = requests.get(\"https://data-charts-api.hexlet.app/registrations?begin=2023-03-01&end=2023-09-01\")\n",
    "\n",
    "src = req.json()\n",
    "df_registrations = pd.DataFrame(src)\n",
    "\n",
    "print(df_registrations)"
   ]
  },
  {
   "cell_type": "markdown",
   "id": "02f93d2c-0d91-4f2a-95d5-ef5fb9125529",
   "metadata": {},
   "source": [
    "### В этом шаге расчитаем конверсию визитов в регистрации. На выходе у вас должен получиться датафрейм со следующими полями:"
   ]
  },
  {
   "cell_type": "markdown",
   "id": "31281594-7c80-4814-8ab2-cd720ec3b11f",
   "metadata": {},
   "source": [
    "\n",
    "date_group — дата\n",
    "platform — платформа: web, ios, android\n",
    "visits — визиты в дату\n",
    "registrations — регистрации в дату\n",
    "conversion — конверсия\n",
    "Среди визитов есть боты — это поисковые и SEO-боты, которые регулярно сканируют страницы. Определить их можно по слову bot в User-Agent.\n",
    "\n",
    "Сагрегируем данные по дате и платформам. Также сохраним полученный датафрейм в формате JSON.ате JSON.о платформе2857, } }"
   ]
  },
  {
   "cell_type": "markdown",
   "id": "b0154804-6e41-45fb-ba72-3fda029671b3",
   "metadata": {},
   "source": [
    "### Требования"
   ]
  },
  {
   "cell_type": "markdown",
   "id": "b1c89fbd-f8c7-4ced-8088-02f8fad71b14",
   "metadata": {},
   "source": [
    "Данные должны быть отсортированы по дате, от ранних к более поздним\n",
    "Визиты ботов не должны влиять на расчет конверсии.\n"
   ]
  },
  {
   "cell_type": "markdown",
   "id": "d6b24d3b-737e-446e-ba63-869bcb9d8ab8",
   "metadata": {},
   "source": [
    "### Задачи"
   ]
  },
  {
   "cell_type": "markdown",
   "id": "a987b805-7bbd-40a5-bf95-ef8076725531",
   "metadata": {},
   "source": [
    "Выполните Jupyter Notebook следующие задачи:\n",
    "* Сгруппируйте данные визитов по датам и платформам\n",
    "* Сгруппируйте также данные регистраций по датам и платформам\n",
    "* Объедините датайфреймы, сделайте итоговый датафрейм с расчетом конверсии\n",
    "* Сохраните датафрейм в формате JSON conversion.json\n",
    "  \n",
    "Поля датафрейма:\n",
    "* date_group - сагрегированный столбец дат\n",
    "* platform - платформа (android,web,ios)\n",
    "* visits - визиты за период date_group\n",
    "* registrations - регистрации за период date_group\n",
    "* conversion - конверсия по платформе"
   ]
  },
  {
   "cell_type": "markdown",
   "id": "ace46707-169f-470d-8db5-532b40a36bb6",
   "metadata": {},
   "source": [
    "### Подсказки"
   ]
  },
  {
   "cell_type": "markdown",
   "id": "3bc54cb4-ce9c-4e6d-927c-bc7228dcebcf",
   "metadata": {},
   "source": [
    "Пользователи могли заходить на сайт несколько раз, прежде чем зарегистрироваться. Учтите это и возьмите только последний визит для каждого visit_id\n",
    "Для сохранения датафрейма в JSON используйте метод .to_json(./conversion.json)\n",
    "Пример JSONа: json { \"date_group\": { \"0\": 1677628800000, \"1\": 1677628800000, }, \"platform\": { \"0\": \"android\", \"1\": \"ios\", }, \"visits\": { \"0\": 158, \"1\": 70, }, \"registrations\": { \"0\": 120, \"1\": 59, }, \"conversion\": { \"0\": 75.9493670886, \"1\": 84.2857142857, } }"
   ]
  },
  {
   "cell_type": "markdown",
   "id": "84c25f89-303a-42e6-ac5b-a19e95312fd1",
   "metadata": {},
   "source": [
    "Сгруппируем данные визитов по датам и платформам"
   ]
  },
  {
   "cell_type": "code",
   "execution_count": 133,
   "id": "b2f8f1da-c9a1-4bd9-9881-158cddc11ac9",
   "metadata": {},
   "outputs": [
    {
     "name": "stdout",
     "output_type": "stream",
     "text": [
      "     date_group platform  visits\n",
      "0    2023-03-01  android      75\n",
      "1    2023-03-01      ios      22\n",
      "2    2023-03-01      web     844\n",
      "3    2023-03-02  android      67\n",
      "4    2023-03-02      ios      31\n",
      "..          ...      ...     ...\n",
      "589  2023-08-30      ios      66\n",
      "590  2023-08-30      web    1357\n",
      "591  2023-08-31  android      57\n",
      "592  2023-08-31      ios      50\n",
      "593  2023-08-31      web     722\n",
      "\n",
      "[594 rows x 3 columns]\n"
     ]
    }
   ],
   "source": [
    "# Преобразуем строку в формат datetime\n",
    "visits_df['datetime'] = pd.to_datetime(visits_df['datetime'])\n",
    "\n",
    "# Извлечем кусок даты\n",
    "visits_df['date_group'] = visits_df['datetime'].dt.date\n",
    "\n",
    "# Сгруппируем данные по дате и платформе\n",
    "visits_grouped = visits_df.groupby(['date_group', 'platform']).size().reset_index(name='visits')\n",
    "print(visits_grouped)"
   ]
  },
  {
   "cell_type": "markdown",
   "id": "0eeca664-a49d-43fd-803a-4b600c1f42f8",
   "metadata": {},
   "source": [
    "Сгруппируйте также данные регистраций по датам и платформам"
   ]
  },
  {
   "cell_type": "code",
   "execution_count": 135,
   "id": "ce650b23-bc88-41f5-a4b2-78f7ff6f2ba9",
   "metadata": {},
   "outputs": [
    {
     "name": "stdout",
     "output_type": "stream",
     "text": [
      "     date_group platform  registrations\n",
      "0    2023-03-01  android             61\n",
      "1    2023-03-01      ios             18\n",
      "2    2023-03-01      web              8\n",
      "3    2023-03-02  android             59\n",
      "4    2023-03-02      ios             24\n",
      "..          ...      ...            ...\n",
      "547  2023-08-30      ios             40\n",
      "548  2023-08-30      web             34\n",
      "549  2023-08-31  android             42\n",
      "550  2023-08-31      ios             36\n",
      "551  2023-08-31      web             46\n",
      "\n",
      "[552 rows x 3 columns]\n"
     ]
    }
   ],
   "source": [
    "# Преобразуем строку в формат datetime\n",
    "registrations_df['datetime'] = pd.to_datetime(registrations_df['datetime'])\n",
    "\n",
    "# Извлечем кусок даты\n",
    "registrations_df['date_group'] = registrations_df['datetime'].dt.date\n",
    "\n",
    "# Сгруппируем данные по дате и платформе\n",
    "registrations_grouped = registrations_df.groupby(['date_group', 'platform']).size().reset_index(name='registrations')\n",
    "print(registrations_grouped)"
   ]
  },
  {
   "cell_type": "markdown",
   "id": "b01ed8b3-4d7e-48dd-8000-665be47e0d46",
   "metadata": {},
   "source": [
    "Объединим датафреймы"
   ]
  },
  {
   "cell_type": "code",
   "execution_count": 107,
   "id": "a3262c5f-11d1-48ce-b7fa-e8a3d9ef8ed8",
   "metadata": {
    "tags": []
   },
   "outputs": [
    {
     "name": "stdout",
     "output_type": "stream",
     "text": [
      "     date_group platform  visits  registrations\n",
      "0    2023-03-01  android      75           61.0\n",
      "1    2023-03-01      ios      22           18.0\n",
      "2    2023-03-01      web     844            8.0\n",
      "3    2023-03-02  android      67           59.0\n",
      "4    2023-03-02      ios      31           24.0\n",
      "..          ...      ...     ...            ...\n",
      "589  2023-08-30      ios      66           40.0\n",
      "590  2023-08-30      web    1357           34.0\n",
      "591  2023-08-31  android      57           42.0\n",
      "592  2023-08-31      ios      50           36.0\n",
      "593  2023-08-31      web     722           46.0\n",
      "\n",
      "[594 rows x 4 columns]\n"
     ]
    }
   ],
   "source": [
    "merged_df = pd.merge(visits_grouped, registrations_grouped, on=['date_group', 'platform'], how='outer')\n",
    "print(merged_df)"
   ]
  },
  {
   "cell_type": "markdown",
   "id": "ade03fba-bd2a-461a-ae0b-384d75d7324b",
   "metadata": {},
   "source": [
    "Заполним NaN значения нулями"
   ]
  },
  {
   "cell_type": "code",
   "execution_count": 139,
   "id": "42df7118-b944-43cf-92f6-6f6e74e9a17d",
   "metadata": {
    "tags": []
   },
   "outputs": [],
   "source": [
    "merged_df['visits'] = merged_df['visits'].fillna(0)\n",
    "merged_df['registrations'] = merged_df['registrations'].fillna(0)"
   ]
  },
  {
   "cell_type": "markdown",
   "id": "f0989a31-f0cb-4789-a674-3118fb0458b4",
   "metadata": {},
   "source": [
    "Посчитаем конверсию"
   ]
  },
  {
   "cell_type": "code",
   "execution_count": 142,
   "id": "265773be-9112-47b9-8c8b-06d57be3f618",
   "metadata": {
    "tags": []
   },
   "outputs": [],
   "source": [
    "merged_df['conversion'] = (merged_df['registrations'] / merged_df['visits']).fillna(0)"
   ]
  },
  {
   "cell_type": "markdown",
   "id": "d3af1b6f-3c08-4d88-94d5-2fe20c854c95",
   "metadata": {},
   "source": [
    "Сохраним датафрейм в формате JSON"
   ]
  },
  {
   "cell_type": "code",
   "execution_count": 146,
   "id": "fa077110-7e61-48ba-9c99-524dde594b45",
   "metadata": {
    "tags": []
   },
   "outputs": [],
   "source": [
    "merged_df.to_json('conversion.json', orient = 'records', date_format='iso')"
   ]
  },
  {
   "cell_type": "code",
   "execution_count": 148,
   "id": "550079d7-6333-472e-96d5-32ae4687c8a1",
   "metadata": {
    "tags": []
   },
   "outputs": [
    {
     "name": "stdout",
     "output_type": "stream",
     "text": [
      "     date_group platform  visits  registrations  conversion\n",
      "0    2023-03-01  android      75           61.0    0.813333\n",
      "1    2023-03-01      ios      22           18.0    0.818182\n",
      "2    2023-03-01      web     844            8.0    0.009479\n",
      "3    2023-03-02  android      67           59.0    0.880597\n",
      "4    2023-03-02      ios      31           24.0    0.774194\n",
      "..          ...      ...     ...            ...         ...\n",
      "589  2023-08-30      ios      66           40.0    0.606061\n",
      "590  2023-08-30      web    1357           34.0    0.025055\n",
      "591  2023-08-31  android      57           42.0    0.736842\n",
      "592  2023-08-31      ios      50           36.0    0.720000\n",
      "593  2023-08-31      web     722           46.0    0.063712\n",
      "\n",
      "[594 rows x 5 columns]\n"
     ]
    }
   ],
   "source": [
    "print(merged_df)"
   ]
  },
  {
   "cell_type": "code",
   "execution_count": null,
   "id": "7f18f040-a803-4f5c-8c58-58db55d67b8e",
   "metadata": {},
   "outputs": [],
   "source": []
  }
 ],
 "metadata": {
  "kernelspec": {
   "display_name": "Python 3 (ipykernel)",
   "language": "python",
   "name": "python3"
  },
  "language_info": {
   "codemirror_mode": {
    "name": "ipython",
    "version": 3
   },
   "file_extension": ".py",
   "mimetype": "text/x-python",
   "name": "python",
   "nbconvert_exporter": "python",
   "pygments_lexer": "ipython3",
   "version": "3.11.9"
  }
 },
 "nbformat": 4,
 "nbformat_minor": 5
}
